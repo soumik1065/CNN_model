{
 "cells": [
  {
   "cell_type": "code",
   "execution_count": 1,
   "id": "f2edc350",
   "metadata": {},
   "outputs": [],
   "source": [
    "import tensorflow as tf\n",
    "from tensorflow.keras.models import Sequential\n",
    "from tensorflow.keras.layers import Conv2D, MaxPooling2D, Flatten, Dense\n",
    "from tensorflow.keras.preprocessing.image import ImageDataGenerator"
   ]
  },
  {
   "cell_type": "code",
   "execution_count": 2,
   "id": "c07c37ac",
   "metadata": {},
   "outputs": [
    {
     "name": "stdout",
     "output_type": "stream",
     "text": [
      "Found 9637 images belonging to 2 classes.\n",
      "Found 7660 images belonging to 2 classes.\n"
     ]
    }
   ],
   "source": [
    "train_datagen = ImageDataGenerator(rescale=1./255) \n",
    "test_datagen = ImageDataGenerator(rescale=1./255)\n",
    "\n",
    "# Load and prepare training data\n",
    "train_generator = train_datagen.flow_from_directory(\n",
    "    'E:\\\\New folder\\\\New Data Set\\\\train',\n",
    "    target_size=(150, 150), # Resize images to a consistent size\n",
    "    batch_size=32,\n",
    "    class_mode='binary', # Binary classification\n",
    "    shuffle=True\n",
    ")\n",
    "\n",
    "# Load and prepare testing data\n",
    "test_generator = test_datagen.flow_from_directory(\n",
    "    'E:\\\\New folder\\\\New Data Set\\\\test',\n",
    "    target_size=(150, 150),\n",
    "    batch_size=32,\n",
    "    class_mode='binary',\n",
    "    shuffle=False\n",
    ")\n"
   ]
  },
  {
   "cell_type": "code",
   "execution_count": 3,
   "id": "ebce770d",
   "metadata": {},
   "outputs": [],
   "source": [
    "model = Sequential()\n",
    "\n",
    "# Convolutional layers\n",
    "model.add(Conv2D(32, (3, 3), activation='relu', input_shape=(150, 150, 3)))\n",
    "model.add(MaxPooling2D((2, 2)))\n",
    "\n",
    "model.add(Conv2D(64, (3, 3), activation='relu'))\n",
    "model.add(MaxPooling2D((2, 2)))\n",
    "\n",
    "model.add(Conv2D(128, (3, 3), activation='relu'))\n",
    "model.add(MaxPooling2D((2, 2)))\n",
    "\n",
    "model.add(Conv2D(128, (3, 3), activation='relu'))\n",
    "model.add(MaxPooling2D((2, 2)))\n",
    "\n",
    "model.add(Conv2D(128, (3, 3), activation='relu'))\n",
    "model.add(MaxPooling2D((2, 2)))\n",
    "\n",
    "\n",
    "model.add(Flatten())\n",
    "model.add(Dense(128, activation='relu'))\n",
    "model.add(Dense(1, activation='sigmoid')) # Output layer, 1 neuron for binary classification\n",
    "\n",
    "\n",
    "model.compile(optimizer='adam', loss='binary_crossentropy', metrics=['accuracy'])\n"
   ]
  },
  {
   "cell_type": "code",
   "execution_count": 4,
   "id": "7d3383cd",
   "metadata": {},
   "outputs": [
    {
     "name": "stdout",
     "output_type": "stream",
     "text": [
      "Epoch 1/20\n",
      "302/302 [==============================] - 783s 3s/step - loss: 0.5137 - accuracy: 0.7465 - val_loss: 0.4595 - val_accuracy: 0.7722\n",
      "Epoch 2/20\n",
      "302/302 [==============================] - 298s 988ms/step - loss: 0.4584 - accuracy: 0.7732 - val_loss: 0.3965 - val_accuracy: 0.7953\n",
      "Epoch 3/20\n",
      "302/302 [==============================] - 304s 1s/step - loss: 0.4315 - accuracy: 0.7903 - val_loss: 0.3992 - val_accuracy: 0.7937\n",
      "Epoch 4/20\n",
      "302/302 [==============================] - 298s 988ms/step - loss: 0.4127 - accuracy: 0.8010 - val_loss: 0.3837 - val_accuracy: 0.8205\n",
      "Epoch 5/20\n",
      "302/302 [==============================] - 315s 1s/step - loss: 0.3886 - accuracy: 0.8215 - val_loss: 0.4086 - val_accuracy: 0.7949\n",
      "Epoch 6/20\n",
      "302/302 [==============================] - 309s 1s/step - loss: 0.3626 - accuracy: 0.8320 - val_loss: 0.3848 - val_accuracy: 0.8133\n",
      "Epoch 7/20\n",
      "302/302 [==============================] - 301s 997ms/step - loss: 0.3499 - accuracy: 0.8392 - val_loss: 0.3898 - val_accuracy: 0.8236\n",
      "Epoch 8/20\n",
      "302/302 [==============================] - 299s 991ms/step - loss: 0.3431 - accuracy: 0.8390 - val_loss: 0.3709 - val_accuracy: 0.8193\n",
      "Epoch 9/20\n",
      "302/302 [==============================] - 301s 998ms/step - loss: 0.3265 - accuracy: 0.8489 - val_loss: 0.4187 - val_accuracy: 0.8009\n",
      "Epoch 10/20\n",
      "302/302 [==============================] - 320s 1s/step - loss: 0.3130 - accuracy: 0.8580 - val_loss: 0.3695 - val_accuracy: 0.8248\n",
      "Epoch 11/20\n",
      "302/302 [==============================] - 324s 1s/step - loss: 0.2968 - accuracy: 0.8619 - val_loss: 0.3911 - val_accuracy: 0.8201\n",
      "Epoch 12/20\n",
      "302/302 [==============================] - 326s 1s/step - loss: 0.2911 - accuracy: 0.8673 - val_loss: 0.3905 - val_accuracy: 0.8123\n",
      "Epoch 13/20\n",
      "302/302 [==============================] - 326s 1s/step - loss: 0.2827 - accuracy: 0.8737 - val_loss: 0.3852 - val_accuracy: 0.8215\n",
      "Epoch 14/20\n",
      "302/302 [==============================] - 330s 1s/step - loss: 0.2555 - accuracy: 0.8889 - val_loss: 0.4016 - val_accuracy: 0.8213\n",
      "Epoch 15/20\n",
      "302/302 [==============================] - 329s 1s/step - loss: 0.2550 - accuracy: 0.8838 - val_loss: 0.4597 - val_accuracy: 0.8148\n",
      "Epoch 16/20\n",
      "302/302 [==============================] - 326s 1s/step - loss: 0.2373 - accuracy: 0.8980 - val_loss: 0.4229 - val_accuracy: 0.8225\n",
      "Epoch 17/20\n",
      "302/302 [==============================] - 398s 1s/step - loss: 0.2052 - accuracy: 0.9118 - val_loss: 0.4756 - val_accuracy: 0.8290\n",
      "Epoch 18/20\n",
      "302/302 [==============================] - 302s 999ms/step - loss: 0.1958 - accuracy: 0.9176 - val_loss: 0.5160 - val_accuracy: 0.8197\n",
      "Epoch 19/20\n",
      "302/302 [==============================] - 302s 1s/step - loss: 0.1811 - accuracy: 0.9236 - val_loss: 0.4942 - val_accuracy: 0.8332\n",
      "Epoch 20/20\n",
      "302/302 [==============================] - 304s 1s/step - loss: 0.1569 - accuracy: 0.9327 - val_loss: 0.5978 - val_accuracy: 0.8171\n"
     ]
    },
    {
     "data": {
      "text/plain": [
       "<keras.callbacks.History at 0x2a8ffa93be0>"
      ]
     },
     "execution_count": 4,
     "metadata": {},
     "output_type": "execute_result"
    }
   ],
   "source": [
    "model.fit(\n",
    "    train_generator,\n",
    "    steps_per_epoch=len(train_generator),\n",
    "    epochs=20, \n",
    "    validation_data=test_generator,\n",
    "    validation_steps=len(test_generator)\n",
    ")\n"
   ]
  },
  {
   "cell_type": "code",
   "execution_count": 5,
   "id": "194544ad",
   "metadata": {},
   "outputs": [
    {
     "data": {
      "text/plain": [
       "array([[1.6809982e-01],\n",
       "       [6.2608540e-02],\n",
       "       [3.6505255e-06],\n",
       "       ...,\n",
       "       [8.7595141e-01],\n",
       "       [8.1828344e-01],\n",
       "       [9.4943810e-01]], dtype=float32)"
      ]
     },
     "execution_count": 5,
     "metadata": {},
     "output_type": "execute_result"
    }
   ],
   "source": [
    "predictions = model.predict(test_generator)\n",
    "predictions"
   ]
  },
  {
   "cell_type": "code",
   "execution_count": 6,
   "id": "545f0420",
   "metadata": {},
   "outputs": [],
   "source": [
    "from sklearn.metrics import confusion_matrix\n",
    "import numpy as np\n",
    "import seaborn as sns\n",
    "import matplotlib.pyplot as plt"
   ]
  },
  {
   "cell_type": "code",
   "execution_count": 7,
   "id": "7e278049",
   "metadata": {},
   "outputs": [],
   "source": [
    "predicted_classes = np.round(predictions).flatten()\n",
    "true_classes = test_generator.classes"
   ]
  },
  {
   "cell_type": "code",
   "execution_count": 8,
   "id": "a35d65fe",
   "metadata": {},
   "outputs": [
    {
     "name": "stdout",
     "output_type": "stream",
     "text": [
      "Confusion Matrix:\n",
      "[[3177 1072]\n",
      " [ 329 3082]]\n"
     ]
    }
   ],
   "source": [
    "# Compute confusion matrix\n",
    "confusion_mtx = confusion_matrix(true_classes, predicted_classes)\n",
    "\n",
    "print(\"Confusion Matrix:\")\n",
    "print(confusion_mtx)"
   ]
  },
  {
   "cell_type": "code",
   "execution_count": 9,
   "id": "b93e8670",
   "metadata": {},
   "outputs": [
    {
     "data": {
      "image/png": "[encoded data removed]",
      "text/plain": [
       "<Figure size 576x432 with 2 Axes>"
      ]
     },
     "metadata": {
      "needs_background": "light"
     },
     "output_type": "display_data"
    }
   ],
   "source": [
    "# Plot confusion matrix using Seaborn\n",
    "class_names = ['benign', 'malignant']\n",
    "plt.figure(figsize=(8, 6))\n",
    "sns.heatmap(confusion_mtx, annot=True, fmt='d', cmap='Blues',\n",
    "            xticklabels=class_names, yticklabels=class_names)\n",
    "plt.xlabel('Predicted')\n",
    "plt.ylabel('Actual')\n",
    "plt.title('Confusion Matrix')\n",
    "plt.show()"
   ]
  },
  {
   "cell_type": "code",
   "execution_count": 10,
   "id": "9784ca58",
   "metadata": {},
   "outputs": [
    {
     "name": "stdout",
     "output_type": "stream",
     "text": [
      "Accuracy: 81.71%\n",
      "Specificity: 74.77%\n"
     ]
    },
    {
     "data": {
      "image/png": "[encoded data removed]",
      "text/plain": [
       "<Figure size 576x432 with 1 Axes>"
      ]
     },
     "metadata": {
      "needs_background": "light"
     },
     "output_type": "display_data"
    }
   ],
   "source": [
    "from sklearn.metrics import accuracy_score, roc_curve, auc\n",
    "\n",
    "# Compute accuracy\n",
    "accuracy = accuracy_score(true_classes, predicted_classes)\n",
    "print(f'Accuracy: {accuracy * 100:.2f}%')\n",
    "\n",
    "# Compute specificity\n",
    "tn, fp, fn, tp = confusion_mtx.ravel()\n",
    "specificity = tn / (tn + fp)\n",
    "print(f'Specificity: {specificity * 100:.2f}%')\n",
    "\n",
    "# Compute ROC curve and AUC\n",
    "fpr, tpr, thresholds = roc_curve(true_classes, predictions)\n",
    "roc_auc = auc(fpr, tpr)\n",
    "\n",
    "# Plot ROC curve\n",
    "plt.figure(figsize=(8, 6))\n",
    "plt.plot(fpr, tpr, color='darkorange', lw=2, label=f'ROC curve (area = {roc_auc:.2f})')\n",
    "plt.plot([0, 1], [0, 1], color='navy', lw=2, linestyle='--')\n",
    "plt.xlabel('False Positive Rate')\n",
    "plt.ylabel('True Positive Rate')\n",
    "plt.title('Receiver Operating Characteristic (ROC) Curve')\n",
    "plt.legend(loc='lower right')\n",
    "plt.show()\n"
   ]
  },
  {
   "cell_type": "code",
   "execution_count": null,
   "id": "d4c9b6b3",
   "metadata": {},
   "outputs": [],
   "source": []
  }
 ],
 "metadata": {
  "kernelspec": {
   "display_name": "Python 3 (ipykernel)",
   "language": "python",
   "name": "python3"
  },
  "language_info": {
   "codemirror_mode": {
    "name": "ipython",
    "version": 3
   },
   "file_extension": ".py",
   "mimetype": "text/x-python",
   "name": "python",
   "nbconvert_exporter": "python",
   "pygments_lexer": "ipython3",
   "version": "3.9.1"
  }
 },
 "nbformat": 4,
 "nbformat_minor": 5
}
